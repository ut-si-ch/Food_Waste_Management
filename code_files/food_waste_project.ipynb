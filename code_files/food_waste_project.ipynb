{
 "cells": [
  {
   "cell_type": "markdown",
   "id": "fcc99d15-e2b7-4226-9320-a997bda61d9d",
   "metadata": {},
   "source": [
    "# **Project Title-** Local Food Wastage Management System"
   ]
  },
  {
   "cell_type": "markdown",
   "id": "9ba144f9-af5b-45fc-9dd0-65ec76ae2c50",
   "metadata": {},
   "source": [
    "## **Problem Statement**\n",
    "Food wastage is a significant issue, with many households and restaurants discarding surplus food while numerous people struggle with food insecurity. This project aims to develop a Local Food Wastage Management System, where:\n",
    "- Restaurants and individuals can list surplus food.\n",
    "- NGOs or individuals in need can claim the food.\n",
    "- SQL stores available food details and locations.\n",
    "- A Streamlit app enables interaction, filtering, CRUD operation, and visualization. \n"
   ]
  },
  {
   "cell_type": "code",
   "execution_count": 1,
   "id": "aa976ca0-b7ce-4d2a-9667-638b3ddc9555",
   "metadata": {},
   "outputs": [],
   "source": [
    "# Import Necessary libraires\n",
    "import pandas as pd\n",
    "import numpy as np\n",
    "import sqlite3\n",
    "from datetime import datetime"
   ]
  },
  {
   "cell_type": "code",
   "execution_count": 2,
   "id": "4973d97e-d0ab-45d9-a92d-b85e8aa9d337",
   "metadata": {},
   "outputs": [
    {
     "name": "stdout",
     "output_type": "stream",
     "text": [
      "All the datasets are successfully loaded!!!\n"
     ]
    }
   ],
   "source": [
    "providers_df = pd.read_csv(\"providers_data.csv\")\n",
    "receivers_df = pd.read_csv(\"receivers_data.csv\")\n",
    "food_listing_df = pd.read_csv(\"food_listings_data.csv\")\n",
    "claims_df = pd.read_csv(\"claims_data.csv\")\n",
    "print(\"All the datasets are successfully loaded!!!\")"
   ]
  },
  {
   "cell_type": "code",
   "execution_count": 3,
   "id": "97174563-d711-418a-99f2-0910d5d3b51d",
   "metadata": {},
   "outputs": [
    {
     "data": {
      "text/html": [
       "<div>\n",
       "<style scoped>\n",
       "    .dataframe tbody tr th:only-of-type {\n",
       "        vertical-align: middle;\n",
       "    }\n",
       "\n",
       "    .dataframe tbody tr th {\n",
       "        vertical-align: top;\n",
       "    }\n",
       "\n",
       "    .dataframe thead th {\n",
       "        text-align: right;\n",
       "    }\n",
       "</style>\n",
       "<table border=\"1\" class=\"dataframe\">\n",
       "  <thead>\n",
       "    <tr style=\"text-align: right;\">\n",
       "      <th></th>\n",
       "      <th>Provider_ID</th>\n",
       "      <th>Name</th>\n",
       "      <th>Type</th>\n",
       "      <th>Address</th>\n",
       "      <th>City</th>\n",
       "      <th>Contact</th>\n",
       "    </tr>\n",
       "  </thead>\n",
       "  <tbody>\n",
       "    <tr>\n",
       "      <th>0</th>\n",
       "      <td>1</td>\n",
       "      <td>Gonzales-Cochran</td>\n",
       "      <td>Supermarket</td>\n",
       "      <td>74347 Christopher Extensions\\nAndreamouth, OK ...</td>\n",
       "      <td>New Jessica</td>\n",
       "      <td>+1-600-220-0480</td>\n",
       "    </tr>\n",
       "    <tr>\n",
       "      <th>1</th>\n",
       "      <td>2</td>\n",
       "      <td>Nielsen, Johnson and Fuller</td>\n",
       "      <td>Grocery Store</td>\n",
       "      <td>91228 Hanson Stream\\nWelchtown, OR 27136</td>\n",
       "      <td>East Sheena</td>\n",
       "      <td>+1-925-283-8901x6297</td>\n",
       "    </tr>\n",
       "    <tr>\n",
       "      <th>2</th>\n",
       "      <td>3</td>\n",
       "      <td>Miller-Black</td>\n",
       "      <td>Supermarket</td>\n",
       "      <td>561 Martinez Point Suite 507\\nGuzmanchester, W...</td>\n",
       "      <td>Lake Jesusview</td>\n",
       "      <td>001-517-295-2206</td>\n",
       "    </tr>\n",
       "    <tr>\n",
       "      <th>3</th>\n",
       "      <td>4</td>\n",
       "      <td>Clark, Prince and Williams</td>\n",
       "      <td>Grocery Store</td>\n",
       "      <td>467 Bell Trail Suite 409\\nPort Jesus, IA 61188</td>\n",
       "      <td>Mendezmouth</td>\n",
       "      <td>556.944.8935x401</td>\n",
       "    </tr>\n",
       "    <tr>\n",
       "      <th>4</th>\n",
       "      <td>5</td>\n",
       "      <td>Coleman-Farley</td>\n",
       "      <td>Grocery Store</td>\n",
       "      <td>078 Matthew Creek Apt. 319\\nSaraborough, MA 53978</td>\n",
       "      <td>Valentineside</td>\n",
       "      <td>193.714.6577</td>\n",
       "    </tr>\n",
       "  </tbody>\n",
       "</table>\n",
       "</div>"
      ],
      "text/plain": [
       "   Provider_ID                         Name           Type  \\\n",
       "0            1             Gonzales-Cochran    Supermarket   \n",
       "1            2  Nielsen, Johnson and Fuller  Grocery Store   \n",
       "2            3                 Miller-Black    Supermarket   \n",
       "3            4   Clark, Prince and Williams  Grocery Store   \n",
       "4            5               Coleman-Farley  Grocery Store   \n",
       "\n",
       "                                             Address            City  \\\n",
       "0  74347 Christopher Extensions\\nAndreamouth, OK ...     New Jessica   \n",
       "1           91228 Hanson Stream\\nWelchtown, OR 27136     East Sheena   \n",
       "2  561 Martinez Point Suite 507\\nGuzmanchester, W...  Lake Jesusview   \n",
       "3     467 Bell Trail Suite 409\\nPort Jesus, IA 61188     Mendezmouth   \n",
       "4  078 Matthew Creek Apt. 319\\nSaraborough, MA 53978   Valentineside   \n",
       "\n",
       "                Contact  \n",
       "0       +1-600-220-0480  \n",
       "1  +1-925-283-8901x6297  \n",
       "2      001-517-295-2206  \n",
       "3      556.944.8935x401  \n",
       "4          193.714.6577  "
      ]
     },
     "execution_count": 3,
     "metadata": {},
     "output_type": "execute_result"
    }
   ],
   "source": [
    "providers_df.head()"
   ]
  },
  {
   "cell_type": "code",
   "execution_count": 4,
   "id": "847bff71-45ac-4932-b761-f8b3d0c4b596",
   "metadata": {},
   "outputs": [
    {
     "data": {
      "text/html": [
       "<div>\n",
       "<style scoped>\n",
       "    .dataframe tbody tr th:only-of-type {\n",
       "        vertical-align: middle;\n",
       "    }\n",
       "\n",
       "    .dataframe tbody tr th {\n",
       "        vertical-align: top;\n",
       "    }\n",
       "\n",
       "    .dataframe thead th {\n",
       "        text-align: right;\n",
       "    }\n",
       "</style>\n",
       "<table border=\"1\" class=\"dataframe\">\n",
       "  <thead>\n",
       "    <tr style=\"text-align: right;\">\n",
       "      <th></th>\n",
       "      <th>Receiver_ID</th>\n",
       "      <th>Name</th>\n",
       "      <th>Type</th>\n",
       "      <th>City</th>\n",
       "      <th>Contact</th>\n",
       "    </tr>\n",
       "  </thead>\n",
       "  <tbody>\n",
       "    <tr>\n",
       "      <th>0</th>\n",
       "      <td>1</td>\n",
       "      <td>Donald Gomez</td>\n",
       "      <td>Shelter</td>\n",
       "      <td>Port Carlburgh</td>\n",
       "      <td>(955)922-5295</td>\n",
       "    </tr>\n",
       "    <tr>\n",
       "      <th>1</th>\n",
       "      <td>2</td>\n",
       "      <td>Laurie Ramos</td>\n",
       "      <td>Individual</td>\n",
       "      <td>Lewisburgh</td>\n",
       "      <td>761.042.1570</td>\n",
       "    </tr>\n",
       "    <tr>\n",
       "      <th>2</th>\n",
       "      <td>3</td>\n",
       "      <td>Ashley Mckee</td>\n",
       "      <td>NGO</td>\n",
       "      <td>South Randalltown</td>\n",
       "      <td>691-023-0094x856</td>\n",
       "    </tr>\n",
       "    <tr>\n",
       "      <th>3</th>\n",
       "      <td>4</td>\n",
       "      <td>Erika Rose</td>\n",
       "      <td>NGO</td>\n",
       "      <td>South Shaneville</td>\n",
       "      <td>8296491111</td>\n",
       "    </tr>\n",
       "    <tr>\n",
       "      <th>4</th>\n",
       "      <td>5</td>\n",
       "      <td>John Romero</td>\n",
       "      <td>Individual</td>\n",
       "      <td>Bakerport</td>\n",
       "      <td>067.491.0154</td>\n",
       "    </tr>\n",
       "  </tbody>\n",
       "</table>\n",
       "</div>"
      ],
      "text/plain": [
       "   Receiver_ID          Name        Type               City           Contact\n",
       "0            1  Donald Gomez     Shelter     Port Carlburgh     (955)922-5295\n",
       "1            2  Laurie Ramos  Individual         Lewisburgh      761.042.1570\n",
       "2            3  Ashley Mckee         NGO  South Randalltown  691-023-0094x856\n",
       "3            4    Erika Rose         NGO   South Shaneville        8296491111\n",
       "4            5   John Romero  Individual          Bakerport      067.491.0154"
      ]
     },
     "execution_count": 4,
     "metadata": {},
     "output_type": "execute_result"
    }
   ],
   "source": [
    "receivers_df.head()"
   ]
  },
  {
   "cell_type": "code",
   "execution_count": 5,
   "id": "1dfc9f7c-c63e-4f62-8996-2d13d85fc70c",
   "metadata": {},
   "outputs": [
    {
     "data": {
      "text/html": [
       "<div>\n",
       "<style scoped>\n",
       "    .dataframe tbody tr th:only-of-type {\n",
       "        vertical-align: middle;\n",
       "    }\n",
       "\n",
       "    .dataframe tbody tr th {\n",
       "        vertical-align: top;\n",
       "    }\n",
       "\n",
       "    .dataframe thead th {\n",
       "        text-align: right;\n",
       "    }\n",
       "</style>\n",
       "<table border=\"1\" class=\"dataframe\">\n",
       "  <thead>\n",
       "    <tr style=\"text-align: right;\">\n",
       "      <th></th>\n",
       "      <th>Food_ID</th>\n",
       "      <th>Food_Name</th>\n",
       "      <th>Quantity</th>\n",
       "      <th>Expiry_Date</th>\n",
       "      <th>Provider_ID</th>\n",
       "      <th>Provider_Type</th>\n",
       "      <th>Location</th>\n",
       "      <th>Food_Type</th>\n",
       "      <th>Meal_Type</th>\n",
       "    </tr>\n",
       "  </thead>\n",
       "  <tbody>\n",
       "    <tr>\n",
       "      <th>0</th>\n",
       "      <td>1</td>\n",
       "      <td>Bread</td>\n",
       "      <td>43</td>\n",
       "      <td>3/17/2025</td>\n",
       "      <td>110</td>\n",
       "      <td>Grocery Store</td>\n",
       "      <td>South Kellyville</td>\n",
       "      <td>Non-Vegetarian</td>\n",
       "      <td>Breakfast</td>\n",
       "    </tr>\n",
       "    <tr>\n",
       "      <th>1</th>\n",
       "      <td>2</td>\n",
       "      <td>Soup</td>\n",
       "      <td>22</td>\n",
       "      <td>3/24/2025</td>\n",
       "      <td>791</td>\n",
       "      <td>Grocery Store</td>\n",
       "      <td>West James</td>\n",
       "      <td>Non-Vegetarian</td>\n",
       "      <td>Dinner</td>\n",
       "    </tr>\n",
       "    <tr>\n",
       "      <th>2</th>\n",
       "      <td>3</td>\n",
       "      <td>Fruits</td>\n",
       "      <td>46</td>\n",
       "      <td>3/28/2025</td>\n",
       "      <td>478</td>\n",
       "      <td>Catering Service</td>\n",
       "      <td>Lake Regina</td>\n",
       "      <td>Vegan</td>\n",
       "      <td>Breakfast</td>\n",
       "    </tr>\n",
       "    <tr>\n",
       "      <th>3</th>\n",
       "      <td>4</td>\n",
       "      <td>Fruits</td>\n",
       "      <td>15</td>\n",
       "      <td>3/16/2025</td>\n",
       "      <td>930</td>\n",
       "      <td>Restaurant</td>\n",
       "      <td>Kellytown</td>\n",
       "      <td>Vegan</td>\n",
       "      <td>Lunch</td>\n",
       "    </tr>\n",
       "    <tr>\n",
       "      <th>4</th>\n",
       "      <td>5</td>\n",
       "      <td>Soup</td>\n",
       "      <td>14</td>\n",
       "      <td>3/19/2025</td>\n",
       "      <td>279</td>\n",
       "      <td>Restaurant</td>\n",
       "      <td>Garciaport</td>\n",
       "      <td>Vegan</td>\n",
       "      <td>Dinner</td>\n",
       "    </tr>\n",
       "  </tbody>\n",
       "</table>\n",
       "</div>"
      ],
      "text/plain": [
       "   Food_ID Food_Name  Quantity Expiry_Date  Provider_ID     Provider_Type  \\\n",
       "0        1     Bread        43   3/17/2025          110     Grocery Store   \n",
       "1        2      Soup        22   3/24/2025          791     Grocery Store   \n",
       "2        3    Fruits        46   3/28/2025          478  Catering Service   \n",
       "3        4    Fruits        15   3/16/2025          930        Restaurant   \n",
       "4        5      Soup        14   3/19/2025          279        Restaurant   \n",
       "\n",
       "           Location       Food_Type  Meal_Type  \n",
       "0  South Kellyville  Non-Vegetarian  Breakfast  \n",
       "1        West James  Non-Vegetarian     Dinner  \n",
       "2       Lake Regina           Vegan  Breakfast  \n",
       "3         Kellytown           Vegan      Lunch  \n",
       "4        Garciaport           Vegan     Dinner  "
      ]
     },
     "execution_count": 5,
     "metadata": {},
     "output_type": "execute_result"
    }
   ],
   "source": [
    "food_listing_df.head()"
   ]
  },
  {
   "cell_type": "code",
   "execution_count": 6,
   "id": "c0bc9c76-58f6-494e-9323-01316c7328bf",
   "metadata": {},
   "outputs": [
    {
     "data": {
      "text/html": [
       "<div>\n",
       "<style scoped>\n",
       "    .dataframe tbody tr th:only-of-type {\n",
       "        vertical-align: middle;\n",
       "    }\n",
       "\n",
       "    .dataframe tbody tr th {\n",
       "        vertical-align: top;\n",
       "    }\n",
       "\n",
       "    .dataframe thead th {\n",
       "        text-align: right;\n",
       "    }\n",
       "</style>\n",
       "<table border=\"1\" class=\"dataframe\">\n",
       "  <thead>\n",
       "    <tr style=\"text-align: right;\">\n",
       "      <th></th>\n",
       "      <th>Claim_ID</th>\n",
       "      <th>Food_ID</th>\n",
       "      <th>Receiver_ID</th>\n",
       "      <th>Status</th>\n",
       "      <th>Timestamp</th>\n",
       "    </tr>\n",
       "  </thead>\n",
       "  <tbody>\n",
       "    <tr>\n",
       "      <th>0</th>\n",
       "      <td>1</td>\n",
       "      <td>164</td>\n",
       "      <td>908</td>\n",
       "      <td>Pending</td>\n",
       "      <td>3/5/2025 5:26</td>\n",
       "    </tr>\n",
       "    <tr>\n",
       "      <th>1</th>\n",
       "      <td>2</td>\n",
       "      <td>353</td>\n",
       "      <td>391</td>\n",
       "      <td>Cancelled</td>\n",
       "      <td>3/11/2025 10:24</td>\n",
       "    </tr>\n",
       "    <tr>\n",
       "      <th>2</th>\n",
       "      <td>3</td>\n",
       "      <td>626</td>\n",
       "      <td>492</td>\n",
       "      <td>Completed</td>\n",
       "      <td>3/21/2025 0:59</td>\n",
       "    </tr>\n",
       "    <tr>\n",
       "      <th>3</th>\n",
       "      <td>4</td>\n",
       "      <td>61</td>\n",
       "      <td>933</td>\n",
       "      <td>Cancelled</td>\n",
       "      <td>3/4/2025 9:08</td>\n",
       "    </tr>\n",
       "    <tr>\n",
       "      <th>4</th>\n",
       "      <td>5</td>\n",
       "      <td>345</td>\n",
       "      <td>229</td>\n",
       "      <td>Pending</td>\n",
       "      <td>3/14/2025 15:17</td>\n",
       "    </tr>\n",
       "  </tbody>\n",
       "</table>\n",
       "</div>"
      ],
      "text/plain": [
       "   Claim_ID  Food_ID  Receiver_ID     Status        Timestamp\n",
       "0         1      164          908    Pending    3/5/2025 5:26\n",
       "1         2      353          391  Cancelled  3/11/2025 10:24\n",
       "2         3      626          492  Completed   3/21/2025 0:59\n",
       "3         4       61          933  Cancelled    3/4/2025 9:08\n",
       "4         5      345          229    Pending  3/14/2025 15:17"
      ]
     },
     "execution_count": 6,
     "metadata": {},
     "output_type": "execute_result"
    }
   ],
   "source": [
    "claims_df.head()"
   ]
  },
  {
   "cell_type": "markdown",
   "id": "3c78b2d5-1ac9-4c09-9e9c-e2a587c071f9",
   "metadata": {},
   "source": [
    "### check consistency in data"
   ]
  },
  {
   "cell_type": "code",
   "execution_count": 7,
   "id": "a4f783c8-036c-4ed3-aa3e-266cd7b61351",
   "metadata": {},
   "outputs": [
    {
     "name": "stdout",
     "output_type": "stream",
     "text": [
      "NULL VALUES IN ANY DATAFRAME: -\n",
      "\n",
      "Provider_ID    0\n",
      "Name           0\n",
      "Type           0\n",
      "Address        0\n",
      "City           0\n",
      "Contact        0\n",
      "dtype: int64\n",
      "----------------------------------\n",
      "Receiver_ID    0\n",
      "Name           0\n",
      "Type           0\n",
      "City           0\n",
      "Contact        0\n",
      "dtype: int64\n",
      "----------------------------------\n",
      "Food_ID          0\n",
      "Food_Name        0\n",
      "Quantity         0\n",
      "Expiry_Date      0\n",
      "Provider_ID      0\n",
      "Provider_Type    0\n",
      "Location         0\n",
      "Food_Type        0\n",
      "Meal_Type        0\n",
      "dtype: int64\n",
      "----------------------------------\n",
      "Claim_ID       0\n",
      "Food_ID        0\n",
      "Receiver_ID    0\n",
      "Status         0\n",
      "Timestamp      0\n",
      "dtype: int64\n",
      "----------------------------------\n"
     ]
    }
   ],
   "source": [
    "# check null values if any in providers dataframe. \n",
    "print(\"NULL VALUES IN ANY DATAFRAME: -\\n\")\n",
    "print(providers_df.isna().isnull().sum())\n",
    "print(\"----------------------------------\")\n",
    "\n",
    "# check null values if any in receivers dataframe.\n",
    "print(receivers_df.isna().isnull().sum())\n",
    "print(\"----------------------------------\")\n",
    "\n",
    "# check null values if any in food_listing dataframe.\n",
    "print(food_listing_df.isna().isnull().sum())\n",
    "print(\"----------------------------------\")\n",
    "\n",
    "# check null values if any in claims dataframe.\n",
    "print(claims_df.isna().isnull().sum())\n",
    "print(\"----------------------------------\")"
   ]
  },
  {
   "cell_type": "code",
   "execution_count": 8,
   "id": "03271a69-6318-47fe-9359-7311749d7c71",
   "metadata": {},
   "outputs": [
    {
     "name": "stdout",
     "output_type": "stream",
     "text": [
      "Information Summary:\n",
      "\n",
      "<class 'pandas.core.frame.DataFrame'>\n",
      "RangeIndex: 1000 entries, 0 to 999\n",
      "Data columns (total 6 columns):\n",
      " #   Column       Non-Null Count  Dtype \n",
      "---  ------       --------------  ----- \n",
      " 0   Provider_ID  1000 non-null   int64 \n",
      " 1   Name         1000 non-null   object\n",
      " 2   Type         1000 non-null   object\n",
      " 3   Address      1000 non-null   object\n",
      " 4   City         1000 non-null   object\n",
      " 5   Contact      1000 non-null   object\n",
      "dtypes: int64(1), object(5)\n",
      "memory usage: 47.0+ KB\n",
      "None\n",
      "-----------------------------------------\n",
      "<class 'pandas.core.frame.DataFrame'>\n",
      "RangeIndex: 1000 entries, 0 to 999\n",
      "Data columns (total 5 columns):\n",
      " #   Column       Non-Null Count  Dtype \n",
      "---  ------       --------------  ----- \n",
      " 0   Receiver_ID  1000 non-null   int64 \n",
      " 1   Name         1000 non-null   object\n",
      " 2   Type         1000 non-null   object\n",
      " 3   City         1000 non-null   object\n",
      " 4   Contact      1000 non-null   object\n",
      "dtypes: int64(1), object(4)\n",
      "memory usage: 39.2+ KB\n",
      "None\n",
      "-----------------------------------------\n",
      "<class 'pandas.core.frame.DataFrame'>\n",
      "RangeIndex: 1000 entries, 0 to 999\n",
      "Data columns (total 9 columns):\n",
      " #   Column         Non-Null Count  Dtype \n",
      "---  ------         --------------  ----- \n",
      " 0   Food_ID        1000 non-null   int64 \n",
      " 1   Food_Name      1000 non-null   object\n",
      " 2   Quantity       1000 non-null   int64 \n",
      " 3   Expiry_Date    1000 non-null   object\n",
      " 4   Provider_ID    1000 non-null   int64 \n",
      " 5   Provider_Type  1000 non-null   object\n",
      " 6   Location       1000 non-null   object\n",
      " 7   Food_Type      1000 non-null   object\n",
      " 8   Meal_Type      1000 non-null   object\n",
      "dtypes: int64(3), object(6)\n",
      "memory usage: 70.4+ KB\n",
      "None\n",
      "-----------------------------------------\n",
      "<class 'pandas.core.frame.DataFrame'>\n",
      "RangeIndex: 1000 entries, 0 to 999\n",
      "Data columns (total 5 columns):\n",
      " #   Column       Non-Null Count  Dtype \n",
      "---  ------       --------------  ----- \n",
      " 0   Claim_ID     1000 non-null   int64 \n",
      " 1   Food_ID      1000 non-null   int64 \n",
      " 2   Receiver_ID  1000 non-null   int64 \n",
      " 3   Status       1000 non-null   object\n",
      " 4   Timestamp    1000 non-null   object\n",
      "dtypes: int64(3), object(2)\n",
      "memory usage: 39.2+ KB\n",
      "None\n",
      "-----------------------------------------\n"
     ]
    }
   ],
   "source": [
    "#check information summary of dataFrames\n",
    "print(\"Information Summary:\\n\")\n",
    "print(providers_df.info())\n",
    "print(\"-----------------------------------------\")\n",
    "\n",
    "print(receivers_df.info())\n",
    "print(\"-----------------------------------------\")\n",
    "\n",
    "print(food_listing_df.info())\n",
    "print(\"-----------------------------------------\")\n",
    "\n",
    "print(claims_df.info())\n",
    "print(\"-----------------------------------------\")"
   ]
  },
  {
   "cell_type": "code",
   "execution_count": 59,
   "id": "7ab91268-3390-4ab0-9499-48c656a966fe",
   "metadata": {},
   "outputs": [
    {
     "name": "stdout",
     "output_type": "stream",
     "text": [
      "object\n"
     ]
    }
   ],
   "source": [
    "# convert date column into datetime format in food_listing columns\n",
    "print(food_listing_df['Expiry_Date'].dtype)"
   ]
  },
  {
   "cell_type": "code",
   "execution_count": 3,
   "id": "915372ec-be38-47ee-8f49-7152471e3578",
   "metadata": {},
   "outputs": [
    {
     "name": "stdout",
     "output_type": "stream",
     "text": [
      "0      2025-03-17\n",
      "1      2025-03-24\n",
      "2      2025-03-28\n",
      "3      2025-03-16\n",
      "4      2025-03-19\n",
      "          ...    \n",
      "995    2025-03-30\n",
      "996    2025-03-18\n",
      "997    2025-03-22\n",
      "998    2025-03-30\n",
      "999    2025-03-19\n",
      "Name: Expiry_Date, Length: 1000, dtype: object\n"
     ]
    }
   ],
   "source": [
    "food_listing_df['Expiry_Date'] = pd.to_datetime(food_listing_df['Expiry_Date'], format=\"%m/%d/%Y\").dt.date\n",
    "print(food_listing_df['Expiry_Date'])"
   ]
  },
  {
   "cell_type": "markdown",
   "id": "183712fa-829b-40ac-a46e-52f6533f7b60",
   "metadata": {},
   "source": [
    "## Note\n",
    "### To convert the string \"3/5/2025 5:26\" into a date object in Python, utilize the datetime module and specifically the strptime() method.\n",
    "**The following steps demonstrate this conversion:**\n",
    "- Import the **datetime class**: This class is part of the datetime module and provides functionalities for handling dates and times.\n",
    "- Define the date string and its format: The strptime() method requires both the string to be converted and a format string that matches the structure of the input.\n",
    "- **%m**: Month as a zero-padded decimal number (e.g., 03 for March).\n",
    "- **%d**: Day of the month as a zero-padded decimal number (e.g., 05).\n",
    "- **%Y**: Year with century as a decimal number (e.g., 2025).\n",
    "- **%H**: Hour (24-hour clock) as a zero-padded decimal number (e.g., 05).\n",
    "- **%M**: Minute as a zero-padded decimal number (e.g., 26).\n",
    "\n",
    "- **Convert the string to a datetime object:** Use datetime.strptime() to perform the conversion.\n",
    "- **Extract the date part:** If only the date is required, use the .date() method on the datetime object."
   ]
  },
  {
   "cell_type": "code",
   "execution_count": 4,
   "id": "dc4fee4d-3af6-4f3e-ba8a-084b5d3a8881",
   "metadata": {},
   "outputs": [
    {
     "name": "stdout",
     "output_type": "stream",
     "text": [
      "0     2025-03-05 05:26:00\n",
      "1     2025-03-11 10:24:00\n",
      "2     2025-03-21 00:59:00\n",
      "3     2025-03-04 09:08:00\n",
      "4     2025-03-14 15:17:00\n",
      "              ...        \n",
      "995   2025-03-13 19:40:00\n",
      "996   2025-03-17 22:04:00\n",
      "997   2025-03-13 18:00:00\n",
      "998   2025-03-01 15:31:00\n",
      "999   2025-03-13 12:51:00\n",
      "Name: Timestamp, Length: 1000, dtype: datetime64[ns]\n"
     ]
    }
   ],
   "source": [
    "# Similarly, convert the TimeStamp Column into date time format\n",
    "claims_df['Timestamp'] = pd.to_datetime(claims_df['Timestamp'], format=\"%m/%d/%Y %H:%M\")\n",
    "print(claims_df['Timestamp'])"
   ]
  },
  {
   "cell_type": "markdown",
   "id": "1726c668-9286-48d8-bc2a-8340fb4b32ba",
   "metadata": {},
   "source": [
    "When you use **pd.to_datetime**, the resulting Series (or column in this case) will already be of the datetime64 dtype, which is what you want for working with dates and times in pandas. \n",
    "The **.dt** accessor in pandas is used to access datetime properties of a Series, and then you can access attributes like .dt.date (to get just the date component) or .dt.time (to get just the time component). However, .dt.datetime isn't a valid attribute or method itself to call. You're essentially trying to call an attribute as if it were a function, leading to a TypeError. \n",
    "Corrected Code\n",
    "To fix this, simply remove **.dt.datetime** from the end of the line:"
   ]
  },
  {
   "cell_type": "markdown",
   "id": "9cb1a598-577f-49fc-b8ad-786d2dedbc1e",
   "metadata": {},
   "source": [
    "### In Python's datetime module, dt.date and dt.datetime represent different levels of temporal precision:\n",
    "- **dt.date:** This class represents a calendar date (year, month, and day) without any time-of-day information. It is suitable when you only need to store or manipulate the date component of a timestamp and do not require details about hours, minutes, seconds, or microseconds.\n",
    "- **dt.datetime:** This class represents a specific moment in time, combining both date and time information down to the microsecond. It includes year, month, day, hour, minute, second, and microsecond. It is used when you need precise timestamps that capture both the date and the exact time."
   ]
  },
  {
   "cell_type": "code",
   "execution_count": 5,
   "id": "53093f08-6fac-4905-a97d-bdf7fa0e6f20",
   "metadata": {},
   "outputs": [],
   "source": [
    "import mysql.connector\n",
    "# DataBase Connection\n",
    " \n",
    "conn = mysql.connector.connect(\n",
    "    host = 'localhost',\n",
    "    user = 'root',\n",
    "    password = '12345'\n",
    ")\n",
    "# MySQL connection Setup\n",
    "cursor = conn.cursor()"
   ]
  },
  {
   "cell_type": "code",
   "execution_count": 5,
   "id": "82033f03-a8ec-4677-a103-2f4ffd4d4804",
   "metadata": {},
   "outputs": [],
   "source": [
    "#!pip install mysql-connector-python"
   ]
  },
  {
   "cell_type": "code",
   "execution_count": 33,
   "id": "f777b0d9-984b-4ac0-965e-53dac9471761",
   "metadata": {},
   "outputs": [
    {
     "name": "stdout",
     "output_type": "stream",
     "text": [
      "MYSQL DataBase 'food_data' created successfully!!!\n"
     ]
    }
   ],
   "source": [
    "cursor.execute(\"CREATE DATABASE IF NOT EXISTS food_data\")\n",
    "print(\"MYSQL DataBase 'food_data' created successfully!!!\")"
   ]
  },
  {
   "cell_type": "code",
   "execution_count": 34,
   "id": "4fd5f117-9773-4951-9f91-e083a3eaed93",
   "metadata": {},
   "outputs": [],
   "source": [
    "cursor.execute(\"USE food_data\")"
   ]
  },
  {
   "cell_type": "code",
   "execution_count": 35,
   "id": "db03dafa-fcca-4f85-9c8c-501e0ba24515",
   "metadata": {},
   "outputs": [
    {
     "data": {
      "text/plain": [
       "Index(['Provider_ID', 'Name', 'Type', 'Address', 'City', 'Contact'], dtype='object')"
      ]
     },
     "execution_count": 35,
     "metadata": {},
     "output_type": "execute_result"
    }
   ],
   "source": [
    "providers_df.columns"
   ]
  },
  {
   "cell_type": "code",
   "execution_count": 36,
   "id": "32015c8c-8e53-4681-9085-45b6e5dede72",
   "metadata": {},
   "outputs": [
    {
     "name": "stderr",
     "output_type": "stream",
     "text": [
      "C:\\Users\\uttam\\AppData\\Local\\Temp\\ipykernel_29744\\3784070299.py:1: FutureWarning: Series.__getitem__ treating keys as positions is deprecated. In a future version, integer keys will always be treated as labels (consistent with DataFrame behavior). To access a value by position, use `ser.iloc[pos]`\n",
      "  len(providers_df.iloc[3][3])\n"
     ]
    },
    {
     "data": {
      "text/plain": [
       "45"
      ]
     },
     "execution_count": 36,
     "metadata": {},
     "output_type": "execute_result"
    }
   ],
   "source": [
    "len(providers_df.iloc[3][3])"
   ]
  },
  {
   "cell_type": "code",
   "execution_count": 37,
   "id": "aafaa534-8ad6-483d-bd14-f7dcf299be9c",
   "metadata": {},
   "outputs": [],
   "source": [
    "cursor.execute(\"\"\"\n",
    "     CREATE TABLE IF NOT EXISTS providers (\n",
    "     Provider_ID INT PRIMARY KEY,\n",
    "     Name VARCHAR(255),\n",
    "     Type VARCHAR(255),\n",
    "     Address TEXT,\n",
    "     City VARCHAR(100),\n",
    "     Contact VARCHAR(100)\n",
    "     )\n",
    "\"\"\")\n",
    "conn.commit()"
   ]
  },
  {
   "cell_type": "code",
   "execution_count": 38,
   "id": "44fb5af3-d0e9-45ce-a976-1248ddabbddf",
   "metadata": {},
   "outputs": [
    {
     "name": "stdout",
     "output_type": "stream",
     "text": [
      "1 records inserted successfully.\n"
     ]
    }
   ],
   "source": [
    "# Insert providers Dataframe data into the MYSQL database\n",
    "for index, row in providers_df.iterrows():\n",
    "    cursor.execute(\"\"\"\n",
    "    INSERT INTO providers (Provider_ID, Name, Type, Address, City, Contact)\n",
    "    VALUES (%s, %s, %s, %s, %s, %s)\n",
    "    \"\"\",tuple(row))    \n",
    "\n",
    "conn.commit()  # Commit the INSERT statements after the loop completes\n",
    "print(f\"{cursor.rowcount} records inserted successfully.\")"
   ]
  },
  {
   "cell_type": "markdown",
   "id": "d2405081-e06d-4a6f-872f-3da9badbe2c3",
   "metadata": {},
   "source": [
    "### Why %s is generally preferred?\n",
    "Many database connectors, including psycopg2 for PostgreSQL and the sqlite3 module for SQLite, as well as MySQL Connector/Python, treat the %s placeholder as a generic placeholder for values. The connector then handles the appropriate type conversion from the Python object to the correct SQL data type, including integers, decimals, strings, and dates."
   ]
  },
  {
   "cell_type": "code",
   "execution_count": 31,
   "id": "a31d3f2b-d273-40af-95d8-c63c1d0ef89e",
   "metadata": {},
   "outputs": [
    {
     "data": {
      "text/html": [
       "<div>\n",
       "<style scoped>\n",
       "    .dataframe tbody tr th:only-of-type {\n",
       "        vertical-align: middle;\n",
       "    }\n",
       "\n",
       "    .dataframe tbody tr th {\n",
       "        vertical-align: top;\n",
       "    }\n",
       "\n",
       "    .dataframe thead th {\n",
       "        text-align: right;\n",
       "    }\n",
       "</style>\n",
       "<table border=\"1\" class=\"dataframe\">\n",
       "  <thead>\n",
       "    <tr style=\"text-align: right;\">\n",
       "      <th></th>\n",
       "      <th>City</th>\n",
       "      <th>Provider_Count</th>\n",
       "    </tr>\n",
       "  </thead>\n",
       "  <tbody>\n",
       "    <tr>\n",
       "      <th>0</th>\n",
       "      <td>New Carol</td>\n",
       "      <td>3</td>\n",
       "    </tr>\n",
       "  </tbody>\n",
       "</table>\n",
       "</div>"
      ],
      "text/plain": [
       "        City  Provider_Count\n",
       "0  New Carol               3"
      ]
     },
     "execution_count": 31,
     "metadata": {},
     "output_type": "execute_result"
    }
   ],
   "source": [
    "# SQL query to get the city with the highest number of providers\n",
    "query = \"\"\"\n",
    "    SELECT City, COUNT(*) AS Provider_Count\n",
    "    FROM providers\n",
    "    GROUP BY City\n",
    "    ORDER BY Provider_Count DESC\n",
    "    LIMIT 1;\n",
    "\"\"\"\n",
    "\n",
    "cursor.execute(query)\n",
    "result = cursor.fetchall()\n",
    "\n",
    "# Convert result into a DataFrame for better readability\n",
    "df = pd.DataFrame(result, columns=[\"City\", \"Provider_Count\"])\n",
    "df"
   ]
  },
  {
   "cell_type": "code",
   "execution_count": 46,
   "id": "21a7de1a-3092-4386-bc94-2469bde3d466",
   "metadata": {},
   "outputs": [],
   "source": [
    "# create table receivers in food_data database \n",
    "cursor.execute(\"\"\"\n",
    "     CREATE TABLE IF NOT EXISTS receivers (\n",
    "     Receivers_ID INT PRIMARY KEY,\n",
    "     Name VARCHAR(255),\n",
    "     Type VARCHAR(255),\n",
    "     City VARCHAR(100),\n",
    "     Contact VARCHAR(100)\n",
    "     )\n",
    "\"\"\")\n",
    "conn.commit()"
   ]
  },
  {
   "cell_type": "code",
   "execution_count": 47,
   "id": "7188095f-8c5a-44ec-ba81-8babf187de0c",
   "metadata": {},
   "outputs": [
    {
     "data": {
      "text/plain": [
       "Index(['Receiver_ID', 'Name', 'Type', 'City', 'Contact'], dtype='object')"
      ]
     },
     "execution_count": 47,
     "metadata": {},
     "output_type": "execute_result"
    }
   ],
   "source": [
    "receivers_df.columns"
   ]
  },
  {
   "cell_type": "code",
   "execution_count": 48,
   "id": "c9102a30-8ff2-468b-9996-ac637fe3241b",
   "metadata": {},
   "outputs": [
    {
     "name": "stdout",
     "output_type": "stream",
     "text": [
      "1 rows inserted rows successfully.\n"
     ]
    }
   ],
   "source": [
    "# Insert data into the receivers table.\n",
    "for index, row in receivers_df.iterrows():\n",
    "    cursor.execute(\"\"\"\n",
    "    INSERT INTO RECEIVERS (Receivers_ID, Name, Type, City, Contact)\n",
    "    VALUES (%s, %s, %s, %s, %s)\n",
    "    \"\"\",tuple(row))\n",
    "conn.commit()\n",
    "print(f'{cursor.rowcount} rows inserted rows successfully.')    "
   ]
  },
  {
   "cell_type": "code",
   "execution_count": 56,
   "id": "3166dede-321c-4202-958f-ae035e758dec",
   "metadata": {},
   "outputs": [],
   "source": [
    "# create table food_listings in food_data database \n",
    "cursor.execute(\"\"\"\n",
    "     CREATE TABLE IF NOT EXISTS food_listings (\n",
    "     Food_ID INT PRIMARY KEY,\n",
    "     Food_Name VARCHAR(255),\n",
    "     Quantity INT,\n",
    "     Expiry_Date DATE,\n",
    "     Provider_ID INT,\n",
    "     Provider_Type VARCHAR(100),\n",
    "     Location VARCHAR(100),\n",
    "     Food_Type VARCHAR(100),\n",
    "     Meal_Type VARCHAR(100)\n",
    "     )\n",
    "\"\"\")\n",
    "conn.commit()"
   ]
  },
  {
   "cell_type": "code",
   "execution_count": 49,
   "id": "4a252372-4d97-4e87-b68a-2af57151d551",
   "metadata": {},
   "outputs": [
    {
     "data": {
      "text/plain": [
       "Index(['Food_ID', 'Food_Name', 'Quantity', 'Expiry_Date', 'Provider_ID',\n",
       "       'Provider_Type', 'Location', 'Food_Type', 'Meal_Type'],\n",
       "      dtype='object')"
      ]
     },
     "execution_count": 49,
     "metadata": {},
     "output_type": "execute_result"
    }
   ],
   "source": [
    "food_listing_df.columns"
   ]
  },
  {
   "cell_type": "code",
   "execution_count": 67,
   "id": "5b394649-8de8-42ef-90e5-a36fc3150183",
   "metadata": {},
   "outputs": [
    {
     "name": "stdout",
     "output_type": "stream",
     "text": [
      "1 tabel updated.\n"
     ]
    }
   ],
   "source": [
    "# Insert data into food_listings tables\n",
    "for index, row in food_listing_df.iterrows():\n",
    "    cursor.execute(\"\"\"\n",
    "    INSERT INTO food_listings(Food_ID, Food_Name, Quantity, Expiry_Date, Provider_ID,\n",
    "                              Provider_Type, Location, Food_Type, Meal_Type)\n",
    "    VALUES(%s, %s, %s, %s, %s, %s, %s, %s, %s)   \n",
    "    \"\"\", tuple(row))\n",
    "\n",
    "conn.commit()\n",
    "print(f'{cursor.rowcount} tabel updated.' )"
   ]
  },
  {
   "cell_type": "code",
   "execution_count": 72,
   "id": "9c0137a5-cd78-4707-8352-499492fc2947",
   "metadata": {},
   "outputs": [],
   "source": [
    "# create table claims in food_data database \n",
    "cursor.execute(\"\"\"\n",
    "     CREATE TABLE IF NOT EXISTS claims (\n",
    "     Claim_ID INT PRIMARY KEY,\n",
    "     Food_ID INT,\n",
    "     Receiver_ID INT,\n",
    "     Status VARCHAR(100),\n",
    "     Timestamp DATETIME\n",
    "     )\n",
    "\"\"\")\n",
    "conn.commit()"
   ]
  },
  {
   "cell_type": "code",
   "execution_count": 73,
   "id": "db8001aa-161b-41d4-b7eb-8c91326cba48",
   "metadata": {},
   "outputs": [
    {
     "data": {
      "text/plain": [
       "Index(['Claim_ID', 'Food_ID', 'Receiver_ID', 'Status', 'Timestamp'], dtype='object')"
      ]
     },
     "execution_count": 73,
     "metadata": {},
     "output_type": "execute_result"
    }
   ],
   "source": [
    "claims_df.columns"
   ]
  },
  {
   "cell_type": "code",
   "execution_count": 74,
   "id": "3b249a3b-a58f-447a-9d31-6d76e87dc8d4",
   "metadata": {},
   "outputs": [
    {
     "name": "stdout",
     "output_type": "stream",
     "text": [
      "1 tabel updated.\n"
     ]
    }
   ],
   "source": [
    "# Insert data into claims tables\n",
    "for index, row in claims_df.iterrows():\n",
    "    cursor.execute(\"\"\"\n",
    "    INSERT INTO claims (Claim_ID, Food_ID, Receiver_ID, Status, Timestamp)\n",
    "    VALUES(%s, %s, %s, %s, %s)   \n",
    "    \"\"\", tuple(row))\n",
    "\n",
    "conn.commit()\n",
    "print(f'{cursor.rowcount} tabel updated.' )"
   ]
  },
  {
   "cell_type": "markdown",
   "id": "53e7fc6d-caa0-480d-9de8-7240724bc64d",
   "metadata": {},
   "source": [
    "# All data tables entries are completed in DATABASE of MYSQL now."
   ]
  },
  {
   "cell_type": "markdown",
   "id": "2589c5e4-43b1-4284-96e7-394266d0c036",
   "metadata": {},
   "source": [
    "MySQL does not directly support the FULL OUTER JOIN keyword like some other SQL databases. However, you can achieve the same result by combining LEFT JOIN and RIGHT JOIN with the UNION operator. "
   ]
  },
  {
   "cell_type": "markdown",
   "id": "fa6a49ec-1e44-4d1c-aa02-1ae386f1af8a",
   "metadata": {},
   "source": [
    "When performing a simulated FULL OUTER JOIN in MySQL, especially when using SELECT * from both tables, you might encounter issues if both tables contain a column with the same name (e.g., Name in both Customers and Employees). This would lead to a \"duplicate column name\" error.\n",
    "\n",
    "1. Use table aliases and explicit column selection\n",
    "Instead of using SELECT *, specify the columns you want to retrieve and use table aliases to distinguish between columns with the same name.\n",
    "2. USING clause (when join columns have identical names)\n",
    "If the column you're joining on has the same name in both tables (e.g., id in both Customers and Orders tables for a customer_id relationship), you can use the USING clause. The USING clause automatically handles the duplicate column by displaying it only once in the result set. However, you'll still need to alias other conflicting columns like Name."
   ]
  }
 ],
 "metadata": {
  "kernelspec": {
   "display_name": "Python 3 (ipykernel)",
   "language": "python",
   "name": "python3"
  },
  "language_info": {
   "codemirror_mode": {
    "name": "ipython",
    "version": 3
   },
   "file_extension": ".py",
   "mimetype": "text/x-python",
   "name": "python",
   "nbconvert_exporter": "python",
   "pygments_lexer": "ipython3",
   "version": "3.9.23"
  }
 },
 "nbformat": 4,
 "nbformat_minor": 5
}
